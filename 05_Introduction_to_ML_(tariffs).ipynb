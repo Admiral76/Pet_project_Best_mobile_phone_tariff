{
 "cells": [
  {
   "cell_type": "markdown",
   "metadata": {},
   "source": [
    "# Рекомендация тарифов"
   ]
  },
  {
   "cell_type": "markdown",
   "metadata": {},
   "source": [
    "В нашем распоряжении данные о поведении клиентов, которые уже перешли на тарифы «Смарт» или «Ультра». По каждому клиенту имеется следующая информация по поведению за месяц: количество звонков, суммарная длительность звонков в минутах, количество sms-сообщений, израсходованный интернет-трафик в Мб, каким тарифом пользовался в течение месяца. Нужно построить модель для задачи классификации, которая выберет подходящий тариф. Предобработку данных мы сделали ранее в другом проекте. Необходимо построить модель с максимально большим значением «accuracy», но не менее 75%.\n",
    "\n",
    "План работы:\n",
    "- Изучение общей информации по данным о клиентах, проверка на наличие аномальных значений, проверка распределения целевого признака, проверка корреляции между признаками.\n",
    "- Разделение исходных данных на обучающую и тестовую выборки\n",
    "- Поиск наилучшей модели с подбором гиперпараметров\n",
    "- Проверка моделей на тестовой выборке\n",
    "- Проверка моделей на вменяемость\n",
    "- Общий вывод"
   ]
  },
  {
   "cell_type": "markdown",
   "metadata": {},
   "source": [
    "## Подготовка"
   ]
  },
  {
   "cell_type": "markdown",
   "metadata": {},
   "source": [
    "### Импорт необходимых библиотек"
   ]
  },
  {
   "cell_type": "code",
   "execution_count": 1,
   "metadata": {},
   "outputs": [],
   "source": [
    "import pandas as pd\n",
    "import numpy as np\n",
    "import matplotlib.pyplot as plt\n",
    "import plotly.express as px\n",
    "import seaborn as sns\n",
    "from sklearn.model_selection import train_test_split\n",
    "from sklearn.metrics import accuracy_score\n",
    "from sklearn.model_selection import GridSearchCV\n",
    "from sklearn.tree import DecisionTreeClassifier\n",
    "from sklearn.ensemble import RandomForestClassifier\n",
    "from sklearn.neighbors import KNeighborsClassifier\n",
    "from sklearn.linear_model import LogisticRegression\n",
    "pd.options.display.max_colwidth = 100\n",
    "\n",
    "viewing_jpg = True\n",
    "if viewing_jpg:\n",
    "    import plotly.io as pio\n",
    "    jpg_renderer = pio.renderers['jpg']\n",
    "    pio.renderers.default='jpg'\n",
    "    jpg_renderer.width = 950\n",
    "    jpg_renderer.height = 550"
   ]
  },
  {
   "cell_type": "markdown",
   "metadata": {},
   "source": [
    "### Подготовка необходимых функций"
   ]
  },
  {
   "cell_type": "code",
   "execution_count": 2,
   "metadata": {},
   "outputs": [],
   "source": [
    "# Разделение на признаки и цель\n",
    "def features_target(data):\n",
    "    return data.drop('is_ultra', axis=1), data.is_ultra\n",
    "\n",
    "\n",
    "# Проверка влияния столбцов с сильной корреляцией между собой на правильность ответов\n",
    "def calls_or_minures(tr_x, tr_y, te_x, te_y):\n",
    "    for dep in range(2, 11, 2):\n",
    "        model = DecisionTreeClassifier(random_state = 12345, max_depth = dep)\n",
    "        model.fit(tr_x, tr_y)\n",
    "        answers = model.predict(te_x)\n",
    "        accuracy = accuracy_score(te_y, answers)\n",
    "        print('Максимальная глубина дерева = {} |'.format(dep),\\\n",
    "              'Доля правильных ответов = {:.2%}'.format(accuracy))\n",
    "\n",
    "\n",
    "# Выбор оптимальных параметров\n",
    "def best_param(cls, param, algorithm, name):\n",
    "    best_model = GridSearchCV(cls, param, cv=5)\n",
    "    best_model.fit(train_x, train_y)\n",
    "    optimal_parameters = best_model.best_params_\n",
    "    time = round(best_model.refit_time_, 5)\n",
    "    best_score = (best_model.best_score_ * 100).round(2)\n",
    "    temp = [algorithm, name, best_score, None, optimal_parameters, time]\n",
    "    temp = pd.DataFrame(data=[temp], columns=['Модель', 'Алгоритм', 'Правильность, %',\\\n",
    "                                              'Итоговая правильность, %', 'Оптимальные параметры',\\\n",
    "                                              'Скорость, cек.'])\n",
    "    return temp\n",
    "\n",
    "\n",
    "# Проверка количества тарифов в выборке\n",
    "def sanity(tp, titl):\n",
    "    test_pred = tp\n",
    "    plt.pie(np.unique(test_pred, return_counts=True)[1],\\\n",
    "            labels=np.unique(test_pred, return_counts=True)[0],\\\n",
    "            labeldistance=0.8, pctdistance=0.2, autopct='%1.0f%%', radius=2.1,\\\n",
    "            wedgeprops = { 'linewidth' : 1.5, 'edgecolor' : 'white' })\n",
    "    plt.title('Количество тарифов в выборке, модель - ' + titl, pad=90)\n",
    "    plt.show()"
   ]
  },
  {
   "cell_type": "markdown",
   "metadata": {},
   "source": [
    "## Изучение общей информации"
   ]
  },
  {
   "cell_type": "markdown",
   "metadata": {},
   "source": [
    "Сохраним таблицу в переменную \"df\" и выведем первые 5 строк"
   ]
  },
  {
   "cell_type": "code",
   "execution_count": 3,
   "metadata": {},
   "outputs": [
    {
     "data": {
      "text/html": [
       "<div>\n",
       "<style scoped>\n",
       "    .dataframe tbody tr th:only-of-type {\n",
       "        vertical-align: middle;\n",
       "    }\n",
       "\n",
       "    .dataframe tbody tr th {\n",
       "        vertical-align: top;\n",
       "    }\n",
       "\n",
       "    .dataframe thead th {\n",
       "        text-align: right;\n",
       "    }\n",
       "</style>\n",
       "<table border=\"1\" class=\"dataframe\">\n",
       "  <thead>\n",
       "    <tr style=\"text-align: right;\">\n",
       "      <th></th>\n",
       "      <th>calls</th>\n",
       "      <th>minutes</th>\n",
       "      <th>messages</th>\n",
       "      <th>mb_used</th>\n",
       "      <th>is_ultra</th>\n",
       "    </tr>\n",
       "  </thead>\n",
       "  <tbody>\n",
       "    <tr>\n",
       "      <th>0</th>\n",
       "      <td>40.0</td>\n",
       "      <td>311.90</td>\n",
       "      <td>83.0</td>\n",
       "      <td>19915.42</td>\n",
       "      <td>0</td>\n",
       "    </tr>\n",
       "    <tr>\n",
       "      <th>1</th>\n",
       "      <td>85.0</td>\n",
       "      <td>516.75</td>\n",
       "      <td>56.0</td>\n",
       "      <td>22696.96</td>\n",
       "      <td>0</td>\n",
       "    </tr>\n",
       "    <tr>\n",
       "      <th>2</th>\n",
       "      <td>77.0</td>\n",
       "      <td>467.66</td>\n",
       "      <td>86.0</td>\n",
       "      <td>21060.45</td>\n",
       "      <td>0</td>\n",
       "    </tr>\n",
       "    <tr>\n",
       "      <th>3</th>\n",
       "      <td>106.0</td>\n",
       "      <td>745.53</td>\n",
       "      <td>81.0</td>\n",
       "      <td>8437.39</td>\n",
       "      <td>1</td>\n",
       "    </tr>\n",
       "    <tr>\n",
       "      <th>4</th>\n",
       "      <td>66.0</td>\n",
       "      <td>418.74</td>\n",
       "      <td>1.0</td>\n",
       "      <td>14502.75</td>\n",
       "      <td>0</td>\n",
       "    </tr>\n",
       "  </tbody>\n",
       "</table>\n",
       "</div>"
      ],
      "text/plain": [
       "   calls  minutes  messages   mb_used  is_ultra\n",
       "0   40.0   311.90      83.0  19915.42         0\n",
       "1   85.0   516.75      56.0  22696.96         0\n",
       "2   77.0   467.66      86.0  21060.45         0\n",
       "3  106.0   745.53      81.0   8437.39         1\n",
       "4   66.0   418.74       1.0  14502.75         0"
      ]
     },
     "metadata": {},
     "output_type": "display_data"
    }
   ],
   "source": [
    "try:\n",
    "    df = pd.read_csv('/datasets/users_behavior.csv')\n",
    "except:\n",
    "    df = pd.read_csv(r'C:\\Users\\Admiral\\Desktop\\учеба\\практикум\\Проекты\\Datasets\\05_users_behavior.csv')\n",
    "\n",
    "display(df.head())"
   ]
  },
  {
   "cell_type": "markdown",
   "metadata": {},
   "source": [
    "На первый взгляд все впорядке. Изучим основные статистические показатели по таблице"
   ]
  },
  {
   "cell_type": "code",
   "execution_count": 4,
   "metadata": {},
   "outputs": [
    {
     "data": {
      "text/html": [
       "<div>\n",
       "<style scoped>\n",
       "    .dataframe tbody tr th:only-of-type {\n",
       "        vertical-align: middle;\n",
       "    }\n",
       "\n",
       "    .dataframe tbody tr th {\n",
       "        vertical-align: top;\n",
       "    }\n",
       "\n",
       "    .dataframe thead th {\n",
       "        text-align: right;\n",
       "    }\n",
       "</style>\n",
       "<table border=\"1\" class=\"dataframe\">\n",
       "  <thead>\n",
       "    <tr style=\"text-align: right;\">\n",
       "      <th></th>\n",
       "      <th>calls</th>\n",
       "      <th>minutes</th>\n",
       "      <th>messages</th>\n",
       "      <th>mb_used</th>\n",
       "      <th>is_ultra</th>\n",
       "    </tr>\n",
       "  </thead>\n",
       "  <tbody>\n",
       "    <tr>\n",
       "      <th>count</th>\n",
       "      <td>3214.000000</td>\n",
       "      <td>3214.000000</td>\n",
       "      <td>3214.000000</td>\n",
       "      <td>3214.000000</td>\n",
       "      <td>3214.000000</td>\n",
       "    </tr>\n",
       "    <tr>\n",
       "      <th>mean</th>\n",
       "      <td>63.038892</td>\n",
       "      <td>438.208787</td>\n",
       "      <td>38.281269</td>\n",
       "      <td>17207.673836</td>\n",
       "      <td>0.306472</td>\n",
       "    </tr>\n",
       "    <tr>\n",
       "      <th>std</th>\n",
       "      <td>33.236368</td>\n",
       "      <td>234.569872</td>\n",
       "      <td>36.148326</td>\n",
       "      <td>7570.968246</td>\n",
       "      <td>0.461100</td>\n",
       "    </tr>\n",
       "    <tr>\n",
       "      <th>min</th>\n",
       "      <td>0.000000</td>\n",
       "      <td>0.000000</td>\n",
       "      <td>0.000000</td>\n",
       "      <td>0.000000</td>\n",
       "      <td>0.000000</td>\n",
       "    </tr>\n",
       "    <tr>\n",
       "      <th>25%</th>\n",
       "      <td>40.000000</td>\n",
       "      <td>274.575000</td>\n",
       "      <td>9.000000</td>\n",
       "      <td>12491.902500</td>\n",
       "      <td>0.000000</td>\n",
       "    </tr>\n",
       "    <tr>\n",
       "      <th>50%</th>\n",
       "      <td>62.000000</td>\n",
       "      <td>430.600000</td>\n",
       "      <td>30.000000</td>\n",
       "      <td>16943.235000</td>\n",
       "      <td>0.000000</td>\n",
       "    </tr>\n",
       "    <tr>\n",
       "      <th>75%</th>\n",
       "      <td>82.000000</td>\n",
       "      <td>571.927500</td>\n",
       "      <td>57.000000</td>\n",
       "      <td>21424.700000</td>\n",
       "      <td>1.000000</td>\n",
       "    </tr>\n",
       "    <tr>\n",
       "      <th>max</th>\n",
       "      <td>244.000000</td>\n",
       "      <td>1632.060000</td>\n",
       "      <td>224.000000</td>\n",
       "      <td>49745.730000</td>\n",
       "      <td>1.000000</td>\n",
       "    </tr>\n",
       "  </tbody>\n",
       "</table>\n",
       "</div>"
      ],
      "text/plain": [
       "             calls      minutes     messages       mb_used     is_ultra\n",
       "count  3214.000000  3214.000000  3214.000000   3214.000000  3214.000000\n",
       "mean     63.038892   438.208787    38.281269  17207.673836     0.306472\n",
       "std      33.236368   234.569872    36.148326   7570.968246     0.461100\n",
       "min       0.000000     0.000000     0.000000      0.000000     0.000000\n",
       "25%      40.000000   274.575000     9.000000  12491.902500     0.000000\n",
       "50%      62.000000   430.600000    30.000000  16943.235000     0.000000\n",
       "75%      82.000000   571.927500    57.000000  21424.700000     1.000000\n",
       "max     244.000000  1632.060000   224.000000  49745.730000     1.000000"
      ]
     },
     "metadata": {},
     "output_type": "display_data"
    }
   ],
   "source": [
    "display(df.describe())"
   ]
  },
  {
   "cell_type": "markdown",
   "metadata": {},
   "source": [
    "Аномальные значения не обнаружены. Изучим общую информацию по таблице"
   ]
  },
  {
   "cell_type": "code",
   "execution_count": 5,
   "metadata": {},
   "outputs": [
    {
     "name": "stdout",
     "output_type": "stream",
     "text": [
      "<class 'pandas.core.frame.DataFrame'>\n",
      "RangeIndex: 3214 entries, 0 to 3213\n",
      "Data columns (total 5 columns):\n",
      " #   Column    Non-Null Count  Dtype  \n",
      "---  ------    --------------  -----  \n",
      " 0   calls     3214 non-null   float64\n",
      " 1   minutes   3214 non-null   float64\n",
      " 2   messages  3214 non-null   float64\n",
      " 3   mb_used   3214 non-null   float64\n",
      " 4   is_ultra  3214 non-null   int64  \n",
      "dtypes: float64(4), int64(1)\n",
      "memory usage: 125.7 KB\n"
     ]
    }
   ],
   "source": [
    "df.info()"
   ]
  },
  {
   "cell_type": "markdown",
   "metadata": {},
   "source": [
    "Пропусков не обнаружено, тип данных почти везде подходящий. Для экономии памяти заменим тип данных в столбцах \"calls\", \"messages\" и \"is_ultra\" на uint8"
   ]
  },
  {
   "cell_type": "code",
   "execution_count": 6,
   "metadata": {},
   "outputs": [],
   "source": [
    "df[['calls', 'messages', 'is_ultra']] = df[['calls', 'messages', 'is_ultra']].astype('uint8')"
   ]
  },
  {
   "cell_type": "markdown",
   "metadata": {},
   "source": [
    "Проверим соотношение тарифов в выборке"
   ]
  },
  {
   "cell_type": "code",
   "execution_count": 7,
   "metadata": {},
   "outputs": [
    {
     "data": {
      "image/png": "[encoded data removed]",
      "text/plain": [
       "<Figure size 432x288 with 1 Axes>"
      ]
     },
     "metadata": {},
     "output_type": "display_data"
    }
   ],
   "source": [
    "plt.pie(df.groupby('is_ultra')['calls'].count().reset_index().calls, \\\n",
    "        labels=df.groupby('is_ultra')['calls'].count().reset_index().is_ultra,\\\n",
    "        labeldistance=0.8, pctdistance=0.1, autopct='%1.0f%%', radius=2.1,\\\n",
    "        wedgeprops = { 'linewidth' : 1.5, 'edgecolor' : 'white' })\n",
    "plt.show()"
   ]
  },
  {
   "cell_type": "markdown",
   "metadata": {},
   "source": [
    "Клиенты в зависимости от тарифа распределены не равномерно. Большая часть клиентов, а именно 69%, пользуются тарифом Smart, остальные 31% пользователи тарифа Ultra. Нужно будет учесть это при разделении выборки на обучающую и тестовую."
   ]
  },
  {
   "cell_type": "markdown",
   "metadata": {},
   "source": [
    "Проверим корреляцию между признаками"
   ]
  },
  {
   "cell_type": "code",
   "execution_count": 8,
   "metadata": {},
   "outputs": [
    {
     "data": {
      "text/plain": [
       "<AxesSubplot:>"
      ]
     },
     "metadata": {},
     "output_type": "display_data"
    },
    {
     "data": {
      "image/png": "[encoded data removed]",
      "text/plain": [
       "<Figure size 720x432 with 2 Axes>"
      ]
     },
     "metadata": {
      "needs_background": "light"
     },
     "output_type": "display_data"
    }
   ],
   "source": [
    "plt.figure(figsize=(10, 6))\n",
    "display(sns.heatmap(df.corr(), annot=True, linewidths=.5))\n",
    "plt.title('Тепловая матрица корреляции')\n",
    "plt.show()"
   ]
  },
  {
   "cell_type": "markdown",
   "metadata": {},
   "source": [
    "Чрезвычайно высокая корреляция достигается между минутами разговора и количеством звонков. Для наглядности проверим зависимость между этими признаками на графике."
   ]
  },
  {
   "cell_type": "code",
   "execution_count": 9,
   "metadata": {},
   "outputs": [
    {
     "data": {
      "image/jpeg": "[encoded data removed]"
     },
     "metadata": {},
     "output_type": "display_data"
    }
   ],
   "source": [
    "fig = px.scatter(df, x='minutes', y='calls', color='is_ultra', size='minutes',\\\n",
    "                 labels=dict(minutes='Минуты разговора', calls='Количество звонков'))\n",
    "fig.update_layout(title={'text': 'График зависимости минут разговора от количества звонков',\\\n",
    "                         'y':0.94, 'x':0.46})\n",
    "fig.show()"
   ]
  },
  {
   "cell_type": "markdown",
   "metadata": {},
   "source": [
    "График так-же подтверждает зависимсоть между этими параметрами. Использование обоих параметров в обучении модели может привести к переобучению а так-же к увеличению времени предсказания. Проведем эксперимент, проверим правильность предсказаний в трех вариантах: с обоими признаками, без признака количества звонков, без признака количества минут разговора. Для начала сохраним копию таблицы в отдельную переменную."
   ]
  },
  {
   "cell_type": "code",
   "execution_count": 10,
   "metadata": {},
   "outputs": [],
   "source": [
    "df_temp = df.copy()"
   ]
  },
  {
   "cell_type": "markdown",
   "metadata": {},
   "source": [
    "Разделим данные на тестовую и обучающую выборки. Параметру \"stratify\" в качестве значения передадим столбец \"is_ultra\" для сохранения пропорций пользователей."
   ]
  },
  {
   "cell_type": "code",
   "execution_count": 11,
   "metadata": {},
   "outputs": [],
   "source": [
    "df_temp_train, df_temp_test = train_test_split(df, test_size=0.25,\\\n",
    "                                     random_state=271828, stratify=df.is_ultra)"
   ]
  },
  {
   "cell_type": "markdown",
   "metadata": {},
   "source": [
    "Проверим долю правильных ответов с использованием обоих признаков на модели на основе алгоритма \"Дерево решений\" с 5 различными показателями максимальной глубины дерева."
   ]
  },
  {
   "cell_type": "code",
   "execution_count": 12,
   "metadata": {},
   "outputs": [
    {
     "name": "stdout",
     "output_type": "stream",
     "text": [
      "Максимальная глубина дерева = 2 | Доля правильных ответов = 78.73%\n",
      "Максимальная глубина дерева = 4 | Доля правильных ответов = 78.86%\n",
      "Максимальная глубина дерева = 6 | Доля правильных ответов = 79.98%\n",
      "Максимальная глубина дерева = 8 | Доля правильных ответов = 79.10%\n",
      "Максимальная глубина дерева = 10 | Доля правильных ответов = 79.60%\n"
     ]
    }
   ],
   "source": [
    "temp_train_x, temp_train_y = features_target(df_temp_train)\n",
    "temp_test_x, temp_test_y = features_target(df_temp_test)\n",
    "calls_or_minures(temp_train_x, temp_train_y, temp_test_x, temp_test_y)"
   ]
  },
  {
   "cell_type": "markdown",
   "metadata": {},
   "source": [
    "Проверим долю правильных ответов без использования признака количества звонков на модели на основе алгоритма \"Дерево решений\" с 5 различными показателями максимальной глубины дерева."
   ]
  },
  {
   "cell_type": "code",
   "execution_count": 13,
   "metadata": {},
   "outputs": [
    {
     "name": "stdout",
     "output_type": "stream",
     "text": [
      "Максимальная глубина дерева = 2 | Доля правильных ответов = 78.73%\n",
      "Максимальная глубина дерева = 4 | Доля правильных ответов = 78.73%\n",
      "Максимальная глубина дерева = 6 | Доля правильных ответов = 79.73%\n",
      "Максимальная глубина дерева = 8 | Доля правильных ответов = 80.10%\n",
      "Максимальная глубина дерева = 10 | Доля правильных ответов = 79.48%\n"
     ]
    }
   ],
   "source": [
    "temp_train_x, temp_train_y = features_target(df_temp_train.drop('calls', axis=1))\n",
    "temp_test_x, temp_test_y = features_target(df_temp_test.drop('calls', axis=1))\n",
    "calls_or_minures(temp_train_x, temp_train_y, temp_test_x, temp_test_y)"
   ]
  },
  {
   "cell_type": "markdown",
   "metadata": {},
   "source": [
    "Проверим долю правильных ответов без использования признака количества минут разговора на модели на основе алгоритма \"Дерево решений\" с 5 различными показателями максимальной глубины дерева."
   ]
  },
  {
   "cell_type": "code",
   "execution_count": 14,
   "metadata": {},
   "outputs": [
    {
     "name": "stdout",
     "output_type": "stream",
     "text": [
      "Максимальная глубина дерева = 2 | Доля правильных ответов = 78.36%\n",
      "Максимальная глубина дерева = 4 | Доля правильных ответов = 79.35%\n",
      "Максимальная глубина дерева = 6 | Доля правильных ответов = 80.10%\n",
      "Максимальная глубина дерева = 8 | Доля правильных ответов = 80.97%\n",
      "Максимальная глубина дерева = 10 | Доля правильных ответов = 80.72%\n"
     ]
    }
   ],
   "source": [
    "temp_train_x, temp_train_y = features_target(df_temp_train.drop('minutes', axis=1))\n",
    "temp_test_x, temp_test_y = features_target(df_temp_test.drop('minutes', axis=1))\n",
    "calls_or_minures(temp_train_x, temp_train_y, temp_test_x, temp_test_y)"
   ]
  },
  {
   "cell_type": "markdown",
   "metadata": {},
   "source": [
    "Максимальная доля правильных ответов достигается при ограничении максимальной глубины дерева равное 8. При такой глубине дерева что с использованием обоих признаков, что без использования одного из них, доля правильных ответов почти неизменна, а значит для существенного увеличения скорости предсказания мы можем убрать один из признаков. Так как доля правильных ответов все же чуть лучше без использования признака количества минут разговора, удалим из данных этот признак."
   ]
  },
  {
   "cell_type": "code",
   "execution_count": 15,
   "metadata": {},
   "outputs": [],
   "source": [
    "df = df.drop('minutes', axis=1)"
   ]
  },
  {
   "cell_type": "markdown",
   "metadata": {},
   "source": [
    "## Разделение данных на обучающую и тестовую выборки"
   ]
  },
  {
   "cell_type": "markdown",
   "metadata": {},
   "source": [
    "Разделим данные на обучающую и тествую выборки. Отдельно выделять валидационную выборку не будем, так как подбор параметров будем производить при помощи кросс-валидации. Так же в связи с разным количеством рассматриваемых тарифов в выборке, параметру \"stratify\" передадим столбец \"is_ultra\""
   ]
  },
  {
   "cell_type": "code",
   "execution_count": 16,
   "metadata": {},
   "outputs": [],
   "source": [
    "df_train, df_test = train_test_split(df, test_size=0.25,\\\n",
    "                                     random_state=271828, stratify=df.is_ultra)"
   ]
  },
  {
   "cell_type": "markdown",
   "metadata": {},
   "source": [
    "Проверим размеры выборок"
   ]
  },
  {
   "cell_type": "code",
   "execution_count": 17,
   "metadata": {},
   "outputs": [
    {
     "name": "stdout",
     "output_type": "stream",
     "text": [
      "(2410, 4) (804, 4)\n"
     ]
    }
   ],
   "source": [
    "print(df_train.shape, df_test.shape)"
   ]
  },
  {
   "cell_type": "markdown",
   "metadata": {},
   "source": [
    "Сохраним в отдельные переменные для каждой выборки признаки и цель"
   ]
  },
  {
   "cell_type": "code",
   "execution_count": 18,
   "metadata": {},
   "outputs": [],
   "source": [
    "train_x, train_y = features_target(df_train)\n",
    "test_x, test_y = features_target(df_test)"
   ]
  },
  {
   "cell_type": "markdown",
   "metadata": {},
   "source": [
    "## Исследование моделей"
   ]
  },
  {
   "cell_type": "markdown",
   "metadata": {},
   "source": [
    "### Обучение модели на основе алгоритма классификации \"Классификатор дерева решений\""
   ]
  },
  {
   "cell_type": "markdown",
   "metadata": {},
   "source": [
    "Для выбора лучшей модели используем разные вариации гиперпараметров:\n",
    "- Минимальное число объектов в листе: от 1 до 7\n",
    "- Максимальная глубина дерева: от 1 до 9 с шагом 2\n",
    "- Число признаков для выбора расщепления: от 1 до 3\n",
    "- Критерий: 'gini' или 'entropy'\n",
    "- Количество разрезов кросс-валидации: 5\n",
    "\n",
    "Объявим классификатор и зафиксируем псевдослучайность, передав параметру random_state значение 271828"
   ]
  },
  {
   "cell_type": "code",
   "execution_count": 19,
   "metadata": {},
   "outputs": [],
   "source": [
    "classifier = DecisionTreeClassifier(random_state=271828)"
   ]
  },
  {
   "cell_type": "markdown",
   "metadata": {},
   "source": [
    "Создадим словарь, в который поместим необходимые параметры"
   ]
  },
  {
   "cell_type": "code",
   "execution_count": 20,
   "metadata": {},
   "outputs": [],
   "source": [
    "parametrs = {'max_depth': range(1, 8),\\\n",
    "             'min_samples_leaf': range(1, 10, 2),\\\n",
    "             'max_features': range(1, 4),\\\n",
    "             'criterion': ['gini', 'entropy']}"
   ]
  },
  {
   "cell_type": "markdown",
   "metadata": {},
   "source": [
    "Запустим обучение и выведем оптимальные параметры"
   ]
  },
  {
   "cell_type": "code",
   "execution_count": 21,
   "metadata": {},
   "outputs": [
    {
     "data": {
      "text/html": [
       "<div>\n",
       "<style scoped>\n",
       "    .dataframe tbody tr th:only-of-type {\n",
       "        vertical-align: middle;\n",
       "    }\n",
       "\n",
       "    .dataframe tbody tr th {\n",
       "        vertical-align: top;\n",
       "    }\n",
       "\n",
       "    .dataframe thead th {\n",
       "        text-align: right;\n",
       "    }\n",
       "</style>\n",
       "<table border=\"1\" class=\"dataframe\">\n",
       "  <thead>\n",
       "    <tr style=\"text-align: right;\">\n",
       "      <th></th>\n",
       "      <th>Модель</th>\n",
       "      <th>Алгоритм</th>\n",
       "      <th>Правильность, %</th>\n",
       "      <th>Итоговая правильность, %</th>\n",
       "      <th>Оптимальные параметры</th>\n",
       "      <th>Скорость, cек.</th>\n",
       "    </tr>\n",
       "  </thead>\n",
       "  <tbody>\n",
       "    <tr>\n",
       "      <th>0</th>\n",
       "      <td>model_tree</td>\n",
       "      <td>Дерево решений</td>\n",
       "      <td>80.04</td>\n",
       "      <td>None</td>\n",
       "      <td>{'criterion': 'entropy', 'max_depth': 6, 'max_features': 2, 'min_samples_leaf': 9}</td>\n",
       "      <td>0.00499</td>\n",
       "    </tr>\n",
       "  </tbody>\n",
       "</table>\n",
       "</div>"
      ],
      "text/plain": [
       "       Модель        Алгоритм  Правильность, % Итоговая правильность, %  \\\n",
       "0  model_tree  Дерево решений            80.04                     None   \n",
       "\n",
       "                                                                Оптимальные параметры  \\\n",
       "0  {'criterion': 'entropy', 'max_depth': 6, 'max_features': 2, 'min_samples_leaf': 9}   \n",
       "\n",
       "   Скорость, cек.  \n",
       "0         0.00499  "
      ]
     },
     "metadata": {},
     "output_type": "display_data"
    }
   ],
   "source": [
    "my_df = pd.DataFrame(columns=['Модель', 'Алгоритм', 'Правильность, %', 'Итоговая правильность, %',\\\n",
    "                                            'Оптимальные параметры', 'Скорость, cек.'])\n",
    "my_df = my_df.append(best_param(classifier, parametrs, 'model_tree',\\\n",
    "                                'Дерево решений'),\\\n",
    "                     ignore_index=True)\n",
    "display(my_df)"
   ]
  },
  {
   "cell_type": "markdown",
   "metadata": {},
   "source": [
    "Обучим модель согласно оптимальных параметров"
   ]
  },
  {
   "cell_type": "code",
   "execution_count": 22,
   "metadata": {},
   "outputs": [],
   "source": [
    "model_tree = DecisionTreeClassifier(random_state=271828,\\\n",
    "                                    min_samples_leaf=9,\\\n",
    "                                    max_depth=6,\\\n",
    "                                    max_features=2,\\\n",
    "                                    criterion='entropy')\n",
    "model_tree.fit(train_x, train_y)\n",
    "pass"
   ]
  },
  {
   "cell_type": "markdown",
   "metadata": {},
   "source": [
    "### Обучение модели на основе алгоритма классификации \"Случайный лес\""
   ]
  },
  {
   "cell_type": "markdown",
   "metadata": {},
   "source": [
    "Для выбора лучшей модели используем разные вариации гиперпараметров:\n",
    "- Минимальное число объектов в листе: от 1 до 5\n",
    "- Число деревьев: от 10 до 50 с шагом 10\n",
    "- Максимальная глубина дерева: от 1 до 15 с шагом 2\n",
    "- Количество разрезов кросс-валидации: 5\n",
    "\n",
    "Объявим классификатор и зафиксируем псевдослучайность, передав параметру random_state значение 271828"
   ]
  },
  {
   "cell_type": "code",
   "execution_count": 23,
   "metadata": {},
   "outputs": [],
   "source": [
    "classifier = RandomForestClassifier(random_state=271828)"
   ]
  },
  {
   "cell_type": "markdown",
   "metadata": {},
   "source": [
    "Создадим словарь, в который поместим необходимые параметры"
   ]
  },
  {
   "cell_type": "code",
   "execution_count": 24,
   "metadata": {},
   "outputs": [],
   "source": [
    "parametrs = {'max_depth': range(1, 14, 2),\\\n",
    "             'min_samples_leaf': range(1, 6),\\\n",
    "             'n_estimators': range(10, 51, 10)}"
   ]
  },
  {
   "cell_type": "markdown",
   "metadata": {},
   "source": [
    "Запустим обучение и выведем оптимальные параметры"
   ]
  },
  {
   "cell_type": "code",
   "execution_count": 25,
   "metadata": {},
   "outputs": [
    {
     "data": {
      "text/html": [
       "<div>\n",
       "<style scoped>\n",
       "    .dataframe tbody tr th:only-of-type {\n",
       "        vertical-align: middle;\n",
       "    }\n",
       "\n",
       "    .dataframe tbody tr th {\n",
       "        vertical-align: top;\n",
       "    }\n",
       "\n",
       "    .dataframe thead th {\n",
       "        text-align: right;\n",
       "    }\n",
       "</style>\n",
       "<table border=\"1\" class=\"dataframe\">\n",
       "  <thead>\n",
       "    <tr style=\"text-align: right;\">\n",
       "      <th></th>\n",
       "      <th>Модель</th>\n",
       "      <th>Алгоритм</th>\n",
       "      <th>Правильность, %</th>\n",
       "      <th>Итоговая правильность, %</th>\n",
       "      <th>Оптимальные параметры</th>\n",
       "      <th>Скорость, cек.</th>\n",
       "    </tr>\n",
       "  </thead>\n",
       "  <tbody>\n",
       "    <tr>\n",
       "      <th>0</th>\n",
       "      <td>model_tree</td>\n",
       "      <td>Дерево решений</td>\n",
       "      <td>80.04</td>\n",
       "      <td>None</td>\n",
       "      <td>{'criterion': 'entropy', 'max_depth': 6, 'max_features': 2, 'min_samples_leaf': 9}</td>\n",
       "      <td>0.00499</td>\n",
       "    </tr>\n",
       "    <tr>\n",
       "      <th>1</th>\n",
       "      <td>model_forest</td>\n",
       "      <td>Случайный лес</td>\n",
       "      <td>80.58</td>\n",
       "      <td>None</td>\n",
       "      <td>{'max_depth': 9, 'min_samples_leaf': 2, 'n_estimators': 20}</td>\n",
       "      <td>0.07459</td>\n",
       "    </tr>\n",
       "  </tbody>\n",
       "</table>\n",
       "</div>"
      ],
      "text/plain": [
       "         Модель        Алгоритм  Правильность, % Итоговая правильность, %  \\\n",
       "0    model_tree  Дерево решений            80.04                     None   \n",
       "1  model_forest   Случайный лес            80.58                     None   \n",
       "\n",
       "                                                                Оптимальные параметры  \\\n",
       "0  {'criterion': 'entropy', 'max_depth': 6, 'max_features': 2, 'min_samples_leaf': 9}   \n",
       "1                         {'max_depth': 9, 'min_samples_leaf': 2, 'n_estimators': 20}   \n",
       "\n",
       "   Скорость, cек.  \n",
       "0         0.00499  \n",
       "1         0.07459  "
      ]
     },
     "metadata": {},
     "output_type": "display_data"
    }
   ],
   "source": [
    "my_df = my_df.append(best_param(classifier, parametrs, 'model_forest', 'Случайный лес'),\\\n",
    "                     ignore_index=True)\n",
    "display(my_df)"
   ]
  },
  {
   "cell_type": "markdown",
   "metadata": {},
   "source": [
    "Обучим модель согласно оптимальных параметров"
   ]
  },
  {
   "cell_type": "code",
   "execution_count": 26,
   "metadata": {},
   "outputs": [],
   "source": [
    "model_forest = RandomForestClassifier(random_state=271828,\\\n",
    "                                      max_depth=9,\\\n",
    "                                      min_samples_leaf=2,\\\n",
    "                                      n_estimators=20)\n",
    "model_forest.fit(train_x, train_y)\n",
    "pass"
   ]
  },
  {
   "cell_type": "markdown",
   "metadata": {},
   "source": [
    "### Обучение модели на основе алгоритма классификации \"K-ближайших соседей\""
   ]
  },
  {
   "cell_type": "markdown",
   "metadata": {},
   "source": [
    "Для выбора лучшей модели используем разные вариации гиперпараметров:\n",
    "- Количество ближайших соседей: от 2 до 9\n",
    "- Вес точек ближайших соседей: равномерный или в зависимости от расстояния\n",
    "- Количество разрезов кросс-валидации: 5\n",
    "\n",
    "Объявим классификатор"
   ]
  },
  {
   "cell_type": "code",
   "execution_count": 27,
   "metadata": {},
   "outputs": [],
   "source": [
    "classifier = KNeighborsClassifier()"
   ]
  },
  {
   "cell_type": "markdown",
   "metadata": {},
   "source": [
    "Создадим словарь, в который поместим необходимые параметры"
   ]
  },
  {
   "cell_type": "code",
   "execution_count": 28,
   "metadata": {},
   "outputs": [],
   "source": [
    "parametrs = {'n_neighbors': range(2, 10),\\\n",
    "             'weights' : ['uniform', 'distance']}"
   ]
  },
  {
   "cell_type": "markdown",
   "metadata": {},
   "source": [
    "Запустим обучение и выведем оптимальные параметры"
   ]
  },
  {
   "cell_type": "code",
   "execution_count": 29,
   "metadata": {},
   "outputs": [
    {
     "data": {
      "text/html": [
       "<div>\n",
       "<style scoped>\n",
       "    .dataframe tbody tr th:only-of-type {\n",
       "        vertical-align: middle;\n",
       "    }\n",
       "\n",
       "    .dataframe tbody tr th {\n",
       "        vertical-align: top;\n",
       "    }\n",
       "\n",
       "    .dataframe thead th {\n",
       "        text-align: right;\n",
       "    }\n",
       "</style>\n",
       "<table border=\"1\" class=\"dataframe\">\n",
       "  <thead>\n",
       "    <tr style=\"text-align: right;\">\n",
       "      <th></th>\n",
       "      <th>Модель</th>\n",
       "      <th>Алгоритм</th>\n",
       "      <th>Правильность, %</th>\n",
       "      <th>Итоговая правильность, %</th>\n",
       "      <th>Оптимальные параметры</th>\n",
       "      <th>Скорость, cек.</th>\n",
       "    </tr>\n",
       "  </thead>\n",
       "  <tbody>\n",
       "    <tr>\n",
       "      <th>0</th>\n",
       "      <td>model_tree</td>\n",
       "      <td>Дерево решений</td>\n",
       "      <td>80.04</td>\n",
       "      <td>None</td>\n",
       "      <td>{'criterion': 'entropy', 'max_depth': 6, 'max_features': 2, 'min_samples_leaf': 9}</td>\n",
       "      <td>0.00499</td>\n",
       "    </tr>\n",
       "    <tr>\n",
       "      <th>1</th>\n",
       "      <td>model_forest</td>\n",
       "      <td>Случайный лес</td>\n",
       "      <td>80.58</td>\n",
       "      <td>None</td>\n",
       "      <td>{'max_depth': 9, 'min_samples_leaf': 2, 'n_estimators': 20}</td>\n",
       "      <td>0.07459</td>\n",
       "    </tr>\n",
       "    <tr>\n",
       "      <th>2</th>\n",
       "      <td>model_KNeighbors</td>\n",
       "      <td>K-ближайших соседей</td>\n",
       "      <td>73.69</td>\n",
       "      <td>None</td>\n",
       "      <td>{'n_neighbors': 6, 'weights': 'uniform'}</td>\n",
       "      <td>0.00401</td>\n",
       "    </tr>\n",
       "  </tbody>\n",
       "</table>\n",
       "</div>"
      ],
      "text/plain": [
       "             Модель             Алгоритм  Правильность, %  \\\n",
       "0        model_tree       Дерево решений            80.04   \n",
       "1      model_forest        Случайный лес            80.58   \n",
       "2  model_KNeighbors  K-ближайших соседей            73.69   \n",
       "\n",
       "  Итоговая правильность, %  \\\n",
       "0                     None   \n",
       "1                     None   \n",
       "2                     None   \n",
       "\n",
       "                                                                Оптимальные параметры  \\\n",
       "0  {'criterion': 'entropy', 'max_depth': 6, 'max_features': 2, 'min_samples_leaf': 9}   \n",
       "1                         {'max_depth': 9, 'min_samples_leaf': 2, 'n_estimators': 20}   \n",
       "2                                            {'n_neighbors': 6, 'weights': 'uniform'}   \n",
       "\n",
       "   Скорость, cек.  \n",
       "0         0.00499  \n",
       "1         0.07459  \n",
       "2         0.00401  "
      ]
     },
     "metadata": {},
     "output_type": "display_data"
    }
   ],
   "source": [
    "my_df = my_df.append(best_param(classifier, parametrs, 'model_KNeighbors', 'K-ближайших соседей'),\\\n",
    "                     ignore_index=True)\n",
    "display(my_df)"
   ]
  },
  {
   "cell_type": "markdown",
   "metadata": {},
   "source": [
    "Обучим модель согласно оптимальных параметров"
   ]
  },
  {
   "cell_type": "code",
   "execution_count": 30,
   "metadata": {},
   "outputs": [],
   "source": [
    "model_KNeighbors = KNeighborsClassifier(n_neighbors=6, weights='uniform')\n",
    "model_KNeighbors.fit(train_x, train_y)\n",
    "pass"
   ]
  },
  {
   "cell_type": "markdown",
   "metadata": {},
   "source": [
    "### Обучение модели на основе алгоритма классификации \"Логическая регрессия\""
   ]
  },
  {
   "cell_type": "markdown",
   "metadata": {},
   "source": [
    "Для выбора лучшей модели используем разные вариации гиперпараметров:\n",
    "- Алгоритм для использования в задаче оптимизации: 'liblinear' (подходит для небольших наборов данных)\n",
    "- Максимальное число итераций: от 50 до 150 с шагом 10\n",
    "- Количество разрезов кросс-валидации: 5\n",
    "\n",
    "Объявим классификатор и зафиксируем псевдослучайность, передав параметру random_state значение 271828"
   ]
  },
  {
   "cell_type": "code",
   "execution_count": 31,
   "metadata": {},
   "outputs": [],
   "source": [
    "classifier = LogisticRegression(random_state=271828, solver='liblinear')"
   ]
  },
  {
   "cell_type": "markdown",
   "metadata": {},
   "source": [
    "Создадим словарь, в который поместим необходимые параметры"
   ]
  },
  {
   "cell_type": "code",
   "execution_count": 32,
   "metadata": {},
   "outputs": [],
   "source": [
    "parametrs = {'max_iter' : range(50, 150, 10)}"
   ]
  },
  {
   "cell_type": "markdown",
   "metadata": {},
   "source": [
    "Запустим обучение и выведем оптимальные параметры"
   ]
  },
  {
   "cell_type": "code",
   "execution_count": 33,
   "metadata": {},
   "outputs": [
    {
     "data": {
      "text/html": [
       "<div>\n",
       "<style scoped>\n",
       "    .dataframe tbody tr th:only-of-type {\n",
       "        vertical-align: middle;\n",
       "    }\n",
       "\n",
       "    .dataframe tbody tr th {\n",
       "        vertical-align: top;\n",
       "    }\n",
       "\n",
       "    .dataframe thead th {\n",
       "        text-align: right;\n",
       "    }\n",
       "</style>\n",
       "<table border=\"1\" class=\"dataframe\">\n",
       "  <thead>\n",
       "    <tr style=\"text-align: right;\">\n",
       "      <th></th>\n",
       "      <th>Модель</th>\n",
       "      <th>Алгоритм</th>\n",
       "      <th>Правильность, %</th>\n",
       "      <th>Итоговая правильность, %</th>\n",
       "      <th>Оптимальные параметры</th>\n",
       "      <th>Скорость, cек.</th>\n",
       "    </tr>\n",
       "  </thead>\n",
       "  <tbody>\n",
       "    <tr>\n",
       "      <th>0</th>\n",
       "      <td>model_tree</td>\n",
       "      <td>Дерево решений</td>\n",
       "      <td>80.04</td>\n",
       "      <td>None</td>\n",
       "      <td>{'criterion': 'entropy', 'max_depth': 6, 'max_features': 2, 'min_samples_leaf': 9}</td>\n",
       "      <td>0.00499</td>\n",
       "    </tr>\n",
       "    <tr>\n",
       "      <th>1</th>\n",
       "      <td>model_forest</td>\n",
       "      <td>Случайный лес</td>\n",
       "      <td>80.58</td>\n",
       "      <td>None</td>\n",
       "      <td>{'max_depth': 9, 'min_samples_leaf': 2, 'n_estimators': 20}</td>\n",
       "      <td>0.07459</td>\n",
       "    </tr>\n",
       "    <tr>\n",
       "      <th>2</th>\n",
       "      <td>model_KNeighbors</td>\n",
       "      <td>K-ближайших соседей</td>\n",
       "      <td>73.69</td>\n",
       "      <td>None</td>\n",
       "      <td>{'n_neighbors': 6, 'weights': 'uniform'}</td>\n",
       "      <td>0.00401</td>\n",
       "    </tr>\n",
       "    <tr>\n",
       "      <th>3</th>\n",
       "      <td>model_Logistic</td>\n",
       "      <td>Логическая регрессия</td>\n",
       "      <td>72.20</td>\n",
       "      <td>None</td>\n",
       "      <td>{'max_iter': 50}</td>\n",
       "      <td>0.00598</td>\n",
       "    </tr>\n",
       "  </tbody>\n",
       "</table>\n",
       "</div>"
      ],
      "text/plain": [
       "             Модель              Алгоритм  Правильность, %  \\\n",
       "0        model_tree        Дерево решений            80.04   \n",
       "1      model_forest         Случайный лес            80.58   \n",
       "2  model_KNeighbors   K-ближайших соседей            73.69   \n",
       "3    model_Logistic  Логическая регрессия            72.20   \n",
       "\n",
       "  Итоговая правильность, %  \\\n",
       "0                     None   \n",
       "1                     None   \n",
       "2                     None   \n",
       "3                     None   \n",
       "\n",
       "                                                                Оптимальные параметры  \\\n",
       "0  {'criterion': 'entropy', 'max_depth': 6, 'max_features': 2, 'min_samples_leaf': 9}   \n",
       "1                         {'max_depth': 9, 'min_samples_leaf': 2, 'n_estimators': 20}   \n",
       "2                                            {'n_neighbors': 6, 'weights': 'uniform'}   \n",
       "3                                                                    {'max_iter': 50}   \n",
       "\n",
       "   Скорость, cек.  \n",
       "0         0.00499  \n",
       "1         0.07459  \n",
       "2         0.00401  \n",
       "3         0.00598  "
      ]
     },
     "metadata": {},
     "output_type": "display_data"
    }
   ],
   "source": [
    "my_df = my_df.append(best_param(classifier, parametrs, 'model_Logistic', 'Логическая регрессия'),\\\n",
    "                     ignore_index=True)\n",
    "display(my_df)"
   ]
  },
  {
   "cell_type": "markdown",
   "metadata": {},
   "source": [
    "Обучим модель согласно оптимальных параметров"
   ]
  },
  {
   "cell_type": "code",
   "execution_count": 34,
   "metadata": {},
   "outputs": [],
   "source": [
    "model_Logistic = LogisticRegression(random_state=271828, solver='liblinear', max_iter=50)\n",
    "model_Logistic.fit(train_x, train_y)\n",
    "pass"
   ]
  },
  {
   "cell_type": "markdown",
   "metadata": {},
   "source": [
    "## Проверка моделей на тестовой выборке"
   ]
  },
  {
   "cell_type": "markdown",
   "metadata": {},
   "source": [
    "Добавим в таблицу процент правильных ответов при проверке каждой модели на тестовой выборке"
   ]
  },
  {
   "cell_type": "code",
   "execution_count": 35,
   "metadata": {},
   "outputs": [
    {
     "data": {
      "text/html": [
       "<div>\n",
       "<style scoped>\n",
       "    .dataframe tbody tr th:only-of-type {\n",
       "        vertical-align: middle;\n",
       "    }\n",
       "\n",
       "    .dataframe tbody tr th {\n",
       "        vertical-align: top;\n",
       "    }\n",
       "\n",
       "    .dataframe thead th {\n",
       "        text-align: right;\n",
       "    }\n",
       "</style>\n",
       "<table border=\"1\" class=\"dataframe\">\n",
       "  <thead>\n",
       "    <tr style=\"text-align: right;\">\n",
       "      <th></th>\n",
       "      <th>Модель</th>\n",
       "      <th>Алгоритм</th>\n",
       "      <th>Правильность, %</th>\n",
       "      <th>Итоговая правильность, %</th>\n",
       "      <th>Оптимальные параметры</th>\n",
       "      <th>Скорость, cек.</th>\n",
       "    </tr>\n",
       "  </thead>\n",
       "  <tbody>\n",
       "    <tr>\n",
       "      <th>0</th>\n",
       "      <td>model_tree</td>\n",
       "      <td>Дерево решений</td>\n",
       "      <td>80.04</td>\n",
       "      <td>80.47</td>\n",
       "      <td>{'criterion': 'entropy', 'max_depth': 6, 'max_features': 2, 'min_samples_leaf': 9}</td>\n",
       "      <td>0.00499</td>\n",
       "    </tr>\n",
       "    <tr>\n",
       "      <th>1</th>\n",
       "      <td>model_forest</td>\n",
       "      <td>Случайный лес</td>\n",
       "      <td>80.58</td>\n",
       "      <td>81.34</td>\n",
       "      <td>{'max_depth': 9, 'min_samples_leaf': 2, 'n_estimators': 20}</td>\n",
       "      <td>0.07459</td>\n",
       "    </tr>\n",
       "    <tr>\n",
       "      <th>2</th>\n",
       "      <td>model_KNeighbors</td>\n",
       "      <td>K-ближайших соседей</td>\n",
       "      <td>73.69</td>\n",
       "      <td>76</td>\n",
       "      <td>{'n_neighbors': 6, 'weights': 'uniform'}</td>\n",
       "      <td>0.00401</td>\n",
       "    </tr>\n",
       "    <tr>\n",
       "      <th>3</th>\n",
       "      <td>model_Logistic</td>\n",
       "      <td>Логическая регрессия</td>\n",
       "      <td>72.20</td>\n",
       "      <td>73.38</td>\n",
       "      <td>{'max_iter': 50}</td>\n",
       "      <td>0.00598</td>\n",
       "    </tr>\n",
       "  </tbody>\n",
       "</table>\n",
       "</div>"
      ],
      "text/plain": [
       "             Модель              Алгоритм  Правильность, %  \\\n",
       "0        model_tree        Дерево решений            80.04   \n",
       "1      model_forest         Случайный лес            80.58   \n",
       "2  model_KNeighbors   K-ближайших соседей            73.69   \n",
       "3    model_Logistic  Логическая регрессия            72.20   \n",
       "\n",
       "  Итоговая правильность, %  \\\n",
       "0                    80.47   \n",
       "1                    81.34   \n",
       "2                       76   \n",
       "3                    73.38   \n",
       "\n",
       "                                                                Оптимальные параметры  \\\n",
       "0  {'criterion': 'entropy', 'max_depth': 6, 'max_features': 2, 'min_samples_leaf': 9}   \n",
       "1                         {'max_depth': 9, 'min_samples_leaf': 2, 'n_estimators': 20}   \n",
       "2                                            {'n_neighbors': 6, 'weights': 'uniform'}   \n",
       "3                                                                    {'max_iter': 50}   \n",
       "\n",
       "   Скорость, cек.  \n",
       "0         0.00499  \n",
       "1         0.07459  \n",
       "2         0.00401  \n",
       "3         0.00598  "
      ]
     },
     "metadata": {},
     "output_type": "display_data"
    }
   ],
   "source": [
    "test_predictions = model_tree.predict(test_x)\n",
    "my_df.loc[0, 'Итоговая правильность, %'] = (accuracy_score(test_y, test_predictions) * 100).round(2)\n",
    "test_predictions = model_forest.predict(test_x)\n",
    "my_df.loc[1, 'Итоговая правильность, %'] = (accuracy_score(test_y, test_predictions) * 100).round(2)\n",
    "test_predictions = model_KNeighbors.predict(test_x)\n",
    "my_df.loc[2, 'Итоговая правильность, %'] = (accuracy_score(test_y, test_predictions) * 100).round(2)\n",
    "test_predictions = model_Logistic.predict(test_x)\n",
    "my_df.loc[3, 'Итоговая правильность, %'] = (accuracy_score(test_y, test_predictions) * 100).round(2)\n",
    "display(my_df)"
   ]
  },
  {
   "cell_type": "markdown",
   "metadata": {},
   "source": [
    "По результатм проверки моделей можно сделать следующий вывод:\n",
    "- Первые две модели показывают примерно одинаковую правильность по результатам кросс-валидации и на тестовой, что говорит о том, что модели не переобучены и не недообучены. Модель на основе логической регрессии имеет правильность на обучающей выборке на 3% лучше чем на тестовой, что говорит о ее небольшом переобучении.\n",
    "- Лучший показатель доли правильных ответов имеет модель на основе алгоритма \"Случайный лес\" с минимальным числом объектов в листе равным 2, числом деревьев равным 20 и максимальной глубиной дерева равной 9. Но данная модель имеет самую низкую скорость работы, примерно в 11 раз превышающую по времени модель на основе алгоритма \"Дерево решений\".\n",
    "- С отстованием менее 1% по доле правильных ответов от предыдущей модели находится модель на основе алгоритма \"Дерево решений\". Процент правильных ответов по результатам кросс-валидации составляет 80.12%, а для тестовой сотавляет 80.47%. Такую правильность удалось достичь с использованием следующих гиперпараметров: минимальное число объектов в листе - 9, число признаков для выбора расщепления - 2, максимальная глубина дерева - 6, критерий -'entropy'. Кроме того данная модель имеет очень высокую скорость работы, что на ряду с высокой долей правильных ответов дает основание считать данную модель лучшей для выбора подходящего тарифа."
   ]
  },
  {
   "cell_type": "markdown",
   "metadata": {},
   "source": [
    "## Проверка моделей на адекватность"
   ]
  },
  {
   "cell_type": "markdown",
   "metadata": {},
   "source": [
    "В начале проекта мы проверили в общей выборке соотношение тарифов и оно составило 69% к 31%. При разлелении выборки на обучающую и тестовую при помощи параметра \"stratify\" мы сохранили пропорции. Проверим пропорции на ответах в каждой модели."
   ]
  },
  {
   "cell_type": "code",
   "execution_count": 36,
   "metadata": {},
   "outputs": [
    {
     "data": {
      "image/png": "[encoded data removed]",
      "text/plain": [
       "<Figure size 432x288 with 1 Axes>"
      ]
     },
     "metadata": {},
     "output_type": "display_data"
    }
   ],
   "source": [
    "sanity(model_tree.predict(test_x), 'Дерево решений')"
   ]
  },
  {
   "cell_type": "code",
   "execution_count": 37,
   "metadata": {},
   "outputs": [
    {
     "data": {
      "image/png": "[encoded data removed]",
      "text/plain": [
       "<Figure size 432x288 with 1 Axes>"
      ]
     },
     "metadata": {},
     "output_type": "display_data"
    }
   ],
   "source": [
    "sanity(model_forest.predict(test_x), 'Случайный лес')"
   ]
  },
  {
   "cell_type": "code",
   "execution_count": 38,
   "metadata": {},
   "outputs": [
    {
     "data": {
      "image/png": "[encoded data removed]",
      "text/plain": [
       "<Figure size 432x288 with 1 Axes>"
      ]
     },
     "metadata": {},
     "output_type": "display_data"
    }
   ],
   "source": [
    "sanity(model_KNeighbors.predict(test_x), 'K-ближайших соседей')"
   ]
  },
  {
   "cell_type": "code",
   "execution_count": 39,
   "metadata": {},
   "outputs": [
    {
     "data": {
      "image/png": "[encoded data removed]",
      "text/plain": [
       "<Figure size 432x288 with 1 Axes>"
      ]
     },
     "metadata": {},
     "output_type": "display_data"
    }
   ],
   "source": [
    "sanity(model_Logistic.predict(test_x), 'Логическая регрессия')"
   ]
  },
  {
   "cell_type": "markdown",
   "metadata": {},
   "source": [
    "В модели 'Случайный лес' наилучшее сохранение пропорций, хоть и наблюдается частичное смещение ответов в пользу тарифа \"Смарт\", соотношение тарифов составило 81% на 19%. Для выбранной нами модели 'Дерево решений' соотношение тарифов после итоговой проверки составило 82% к 18%.. Модель \"Логическая регрессия\" показала наихудщий результат. Почти все ответы она сделала в пользу доминирующего по объему тарифа \"Смарт\"."
   ]
  },
  {
   "cell_type": "markdown",
   "metadata": {},
   "source": [
    "## Вывод"
   ]
  },
  {
   "cell_type": "markdown",
   "metadata": {},
   "source": [
    "В процессе подготовки проекта мы изучили общую информацию по имеющимся у нас данным, изменили тип данных в некоторых столбцах для экономии памяти, а так же проверили отсутствие аномальных значений в признаках. Кроме того мы проверили корреляцию между признаками и выяснили, что между количеством звонков и количеством минут разговора существует высокая зависимость с корреляцией равной 0.98. В связи с этим мы провели эксперимент, в ходе которого выяснилось, что использование обоих признаков и использование лишь одного из них в обучении модели никак не влияет на долю правильных ответов, более того, при использовании лишь одного признака по количеству звонков мизерно увеличивает процент правильных ответов. На основании этого эксперимента было принято решение об удалении из данных информации по количеству минут разговора для предотвращения переобучения моделей и для увеличения скорости предсказаний.\n",
    "\n",
    "После разделения данных на обучающую и тренировочную выборки и последующее разделение выборок на признаки и целевой признак мы приступили к исследованию моделей и поиску оптимальных гиперпараметров. Мы обучили модели на основе четырех различных классификаторов: Дерево решений, Случайный лес, К-ближайших соседей и Логическая регрессия. Хуже всего проявила себя модель Логическая регрессия. Процент правильных ответов по итогам тестирований у данной модели оказался менее 73%. Кроме того модель Логическая регрессия не прошла проверку на адекватность, все свои ответы она отдала в пользу доминирующего по количеству в выборке тарифа Smart. Модель К-ближайших соседей показала себя порядком лучше при тестировании по сравнению с предыдущей моделью, но все же не достаточно хорошо. Процент правильных ответов при итоговом тестировании достиг 76%, но в пользу тарифа Ultra  данная модель отдала всего 11% (при изначальных 31%), что говорит о ее сомнительной вменяемости. В итоге лучшими моделями оказались Случайный лес и Дерево решений. Они показали примерно одинаковые результаты по итогам кросс-валидации и итоговой проверки на тестовой выборке, а так же при проверке на адекватность. Хоть модель Случайный лес и показала чуть лучший результат, в качестве лучшей модели нами была выбрана модель Дерево решений, так как скорость выполнения предсказания у нее более чем в 10 раз выше, чем у модели Случайный лес.\n",
    "\n",
    "Рекомендуется использование модели Дерево решений с применением следующих гиперпараметров: минимальное число объектов в листе - 9, число признаков для выбора расщепления - 2, максимальная глубина дерева - 6, критерий - 'entropy'."
   ]
  }
 ],
 "metadata": {
  "kernelspec": {
   "display_name": "Python 3",
   "language": "python",
   "name": "python3"
  },
  "language_info": {
   "codemirror_mode": {
    "name": "ipython",
    "version": 3
   },
   "file_extension": ".py",
   "mimetype": "text/x-python",
   "name": "python",
   "nbconvert_exporter": "python",
   "pygments_lexer": "ipython3",
   "version": "3.8.5"
  },
  "toc": {
   "base_numbering": 1,
   "nav_menu": {},
   "number_sections": true,
   "sideBar": true,
   "skip_h1_title": true,
   "title_cell": "Table of Contents",
   "title_sidebar": "Contents",
   "toc_cell": false,
   "toc_position": {},
   "toc_section_display": true,
   "toc_window_display": false
  }
 },
 "nbformat": 4,
 "nbformat_minor": 2
}
